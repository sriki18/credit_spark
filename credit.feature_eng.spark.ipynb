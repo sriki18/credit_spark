{
 "cells": [
  {
   "cell_type": "code",
   "execution_count": 1,
   "metadata": {},
   "outputs": [],
   "source": [
    "from pyspark.mllib.stat import Statistics\n",
    "from pyspark.sql import SparkSession\n",
    "spark = SparkSession.builder.getOrCreate()"
   ]
  },
  {
   "cell_type": "code",
   "execution_count": 2,
   "metadata": {},
   "outputs": [],
   "source": [
    "from pyspark.ml.linalg import DenseVector, Vectors\n",
    "from pyspark.mllib.linalg import Vectors as MLLVectors\n",
    "from pyspark.ml.feature import PCA\n",
    "import matplotlib.pyplot as plt\n",
    "import seaborn as sns"
   ]
  },
  {
   "cell_type": "code",
   "execution_count": 3,
   "metadata": {},
   "outputs": [],
   "source": [
    "df = spark.read.load(\"credit_feats.parquet\")\n",
    "df.createOrReplaceTempView(\"credit\")"
   ]
  },
  {
   "cell_type": "markdown",
   "metadata": {},
   "source": [
    "# Correlation analysis"
   ]
  },
  {
   "cell_type": "code",
   "execution_count": 4,
   "metadata": {},
   "outputs": [
    {
     "data": {
      "text/plain": [
       "[Row(label=0.0, features=SparseVector(33, {0: 1.0, 4: 1.0, 8: 1.0, 13: 1.0, 14: 1.0, 18: 1.0, 19: 1.0, 21: 1.0, 26: 1.0, 30: 0.7892, 31: -0.2587, 32: -0.248})),\n",
       " Row(label=0.0, features=SparseVector(33, {0: 1.0, 5: 1.0, 8: 1.0, 16: 1.0, 21: 1.0, 24: 1.0, 30: -0.9708, 31: -0.2587, 32: -0.248})),\n",
       " Row(label=0.0, features=SparseVector(33, {0: 1.0, 5: 1.0, 8: 1.0, 14: 1.0, 16: 1.0, 20: 1.0, 21: 1.0, 24: 1.0, 30: -0.9708, 31: 0.1411, 32: 0.1232}))]"
      ]
     },
     "execution_count": 4,
     "metadata": {},
     "output_type": "execute_result"
    }
   ],
   "source": [
    "t = df.rdd\n",
    "t.take(3)"
   ]
  },
  {
   "cell_type": "markdown",
   "metadata": {},
   "source": [
    "To do : scale the last two arguments. What is the difference between normalization and scaling? Then consider doing PCA to extract features."
   ]
  },
  {
   "cell_type": "code",
   "execution_count": 5,
   "metadata": {},
   "outputs": [],
   "source": [
    "t2 = t.map(lambda x: MLLVectors.dense([x[1][ind] for ind in range(33) ]))\n",
    "t2.take(3)\n",
    "corr_mat = Statistics.corr(t2)"
   ]
  },
  {
   "cell_type": "code",
   "execution_count": 6,
   "metadata": {},
   "outputs": [
    {
     "name": "stdout",
     "output_type": "stream",
     "text": [
      "(-0.66521102813819788, -0.014720820340594031, 0.42858075618167812, 0.16308049822391335)\n"
     ]
    },
    {
     "data": {
      "image/png": "[encoded data removed]",
      "text/plain": [
       "<matplotlib.figure.Figure at 0x7fc8cf44a490>"
      ]
     },
     "metadata": {},
     "output_type": "display_data"
    }
   ],
   "source": [
    "import seaborn as sns\n",
    "sns.heatmap(corr_mat)\n",
    "print(corr_mat[0,1], corr_mat[7,8], corr_mat[12,13], corr_mat[17,18])"
   ]
  },
  {
   "cell_type": "markdown",
   "metadata": {},
   "source": [
    "Only correlation between states is high, but that is probably because of NJ and NY, which have very low numbers."
   ]
  },
  {
   "cell_type": "markdown",
   "metadata": {},
   "source": [
    "# PCA"
   ]
  },
  {
   "cell_type": "code",
   "execution_count": 7,
   "metadata": {},
   "outputs": [],
   "source": [
    "pca = PCA(k=10, inputCol=\"features\", outputCol=\"pca_features\")\n",
    "model = pca.fit(df)"
   ]
  },
  {
   "cell_type": "code",
   "execution_count": 8,
   "metadata": {},
   "outputs": [
    {
     "name": "stdout",
     "output_type": "stream",
     "text": [
      "[0.226756221786,0.132098414649,0.0803752904841,0.0645871202011,0.0586212405539,0.0437725352798,0.0428123200999,0.0410443324169,0.0374258047875,0.0353281563468]\n"
     ]
    }
   ],
   "source": [
    "print(model.explainedVariance)\n",
    "df2 = model.transform(df)"
   ]
  },
  {
   "cell_type": "code",
   "execution_count": 9,
   "metadata": {},
   "outputs": [],
   "source": [
    "df2.select(\"label\", \"pca_features\").write.mode('overwrite').save(\"credit_pca_feats.parquet\")"
   ]
  },
  {
   "cell_type": "code",
   "execution_count": null,
   "metadata": {},
   "outputs": [],
   "source": []
  }
 ],
 "metadata": {
  "kernelspec": {
   "display_name": "Python 2 with Spark 2.1",
   "language": "python",
   "name": "python2-spark21"
  },
  "language_info": {
   "codemirror_mode": {
    "name": "ipython",
    "version": 2
   },
   "file_extension": ".py",
   "mimetype": "text/x-python",
   "name": "python",
   "nbconvert_exporter": "python",
   "pygments_lexer": "ipython2",
   "version": "2.7.14"
  }
 },
 "nbformat": 4,
 "nbformat_minor": 1
}
