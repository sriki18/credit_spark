{
 "cells": [
  {
   "cell_type": "code",
   "execution_count": 1,
   "metadata": {},
   "outputs": [],
   "source": [
    "from pyspark.ml.feature import StringIndexer, OneHotEncoder, VectorAssembler\n",
    "from pyspark.sql import SparkSession\n",
    "spark = SparkSession.builder.getOrCreate()\n",
    "from pyspark.ml.classification import LogisticRegression\n",
    "import matplotlib.pyplot as plt\n",
    "import numpy as np\n",
    "import pandas as pd"
   ]
  },
  {
   "cell_type": "code",
   "execution_count": null,
   "metadata": {},
   "outputs": [],
   "source": [
    "import numpy as np"
   ]
  },
  {
   "cell_type": "markdown",
   "metadata": {},
   "source": [
    "# Logistic Regression on PCA features"
   ]
  },
  {
   "cell_type": "code",
   "execution_count": 2,
   "metadata": {},
   "outputs": [],
   "source": [
    "df = spark.read.load(\"credit_pca_feats.parquet\")\n",
    "df.createOrReplaceTempView(\"credit\")"
   ]
  },
  {
   "cell_type": "code",
   "execution_count": 3,
   "metadata": {},
   "outputs": [
    {
     "name": "stdout",
     "output_type": "stream",
     "text": [
      "root\n",
      " |-- label: double (nullable = true)\n",
      " |-- pca_features: vector (nullable = true)\n",
      "\n"
     ]
    }
   ],
   "source": [
    "df.printSchema()"
   ]
  },
  {
   "cell_type": "code",
   "execution_count": 4,
   "metadata": {},
   "outputs": [],
   "source": [
    "lr = LogisticRegression(maxIter=40, featuresCol=\"pca_features\")\n",
    "lrmod = lr.fit(df)"
   ]
  },
  {
   "cell_type": "code",
   "execution_count": 5,
   "metadata": {},
   "outputs": [
    {
     "name": "stdout",
     "output_type": "stream",
     "text": [
      "[-3.32894285059,0.335811900942,1.38012744608,-0.669157651127,0.232392134019,0.526443353882,0.601203658304,-0.683401009196,1.29312030135,-1.91496729027]\n",
      "-2.46480699983\n"
     ]
    }
   ],
   "source": [
    "print(lrmod.coefficients)\n",
    "print(lrmod.intercept)"
   ]
  },
  {
   "cell_type": "code",
   "execution_count": 6,
   "metadata": {},
   "outputs": [
    {
     "data": {
      "text/plain": [
       "<matplotlib.text.Text at 0x7f664aa20990>"
      ]
     },
     "execution_count": 6,
     "metadata": {},
     "output_type": "execute_result"
    },
    {
     "data": {
      "image/png": "[encoded data removed]",
      "text/plain": [
       "<matplotlib.figure.Figure at 0x7f664aa67c50>"
      ]
     },
     "metadata": {},
     "output_type": "display_data"
    }
   ],
   "source": [
    "lrsum = lrmod.summary\n",
    "pred = lrsum.predictions;\n",
    "pred.createOrReplaceTempView(\"pr\")\n",
    "plt.plot(lrsum.objectiveHistory)\n",
    "plt.ylabel('objective value')"
   ]
  },
  {
   "cell_type": "code",
   "execution_count": 7,
   "metadata": {},
   "outputs": [
    {
     "name": "stdout",
     "output_type": "stream",
     "text": [
      "+--------+\n",
      "|accuracy|\n",
      "+--------+\n",
      "|0.945546|\n",
      "+--------+\n",
      "\n"
     ]
    }
   ],
   "source": [
    "t = spark.sql(\"SELECT COUNT(*)/1000000 AS accuracy from pr WHERE label=prediction\")\n",
    "t.show()"
   ]
  },
  {
   "cell_type": "markdown",
   "metadata": {},
   "source": [
    "- The accuracy of logistic with PCA features is < 95%. \n",
    "- Moreover, logistic regression + PCA is not easy to interpret. \n",
    "\n",
    "Hence attempt logistic without PCA."
   ]
  },
  {
   "cell_type": "markdown",
   "metadata": {},
   "source": [
    "# Logistic Regression with raw features"
   ]
  },
  {
   "cell_type": "code",
   "execution_count": 8,
   "metadata": {},
   "outputs": [],
   "source": [
    "df2 = spark.read.load(\"credit_feats.parquet\")\n",
    "df2.createOrReplaceTempView(\"credit\")\n",
    "lr2 = LogisticRegression(maxIter=40, featuresCol=\"features\")\n",
    "lrmod2 = lr2.fit(df2)\n",
    "lrsum2 = lrmod2.summary\n",
    "pred2 = lrsum2.predictions;\n",
    "pred2.createOrReplaceTempView(\"pr2\")"
   ]
  },
  {
   "cell_type": "markdown",
   "metadata": {},
   "source": [
    "## Diagnosis\n",
    "\n",
    "To diagnose the model, we look at 3 aspects\n",
    "\n",
    "1. Whether the objective function value has stabilized.\n",
    "2. Accuracy over 95%.\n",
    "3. Coefficients and intercept are reasonable."
   ]
  },
  {
   "cell_type": "code",
   "execution_count": 9,
   "metadata": {},
   "outputs": [
    {
     "data": {
      "text/plain": [
       "<matplotlib.text.Text at 0x7f664871ef10>"
      ]
     },
     "execution_count": 9,
     "metadata": {},
     "output_type": "execute_result"
    },
    {
     "data": {
      "image/png": "[encoded data removed]",
      "text/plain": [
       "<matplotlib.figure.Figure at 0x7f664aa42610>"
      ]
     },
     "metadata": {},
     "output_type": "display_data"
    }
   ],
   "source": [
    "plt.plot(lrsum2.objectiveHistory)\n",
    "plt.ylabel('objective value')"
   ]
  },
  {
   "cell_type": "code",
   "execution_count": 10,
   "metadata": {},
   "outputs": [
    {
     "name": "stdout",
     "output_type": "stream",
     "text": [
      "+--------+\n",
      "|accuracy|\n",
      "+--------+\n",
      "|0.977683|\n",
      "+--------+\n",
      "\n"
     ]
    }
   ],
   "source": [
    "t2 = spark.sql(\"SELECT COUNT(*)/1000000 AS accuracy from pr2 WHERE label=prediction\")\n",
    "t2.show()"
   ]
  },
  {
   "cell_type": "code",
   "execution_count": 11,
   "metadata": {},
   "outputs": [
    {
     "name": "stdout",
     "output_type": "stream",
     "text": [
      "+-----+--------+\n",
      "|label|count(1)|\n",
      "+-----+--------+\n",
      "|  0.0|  700000|\n",
      "|  1.0|  300000|\n",
      "+-----+--------+\n",
      "\n"
     ]
    }
   ],
   "source": [
    "t2 = spark.sql(\"SELECT label, COUNT(*) FROM pr2 GROUP BY label\")\n",
    "t2.show()"
   ]
  },
  {
   "cell_type": "code",
   "execution_count": 12,
   "metadata": {},
   "outputs": [
    {
     "name": "stdout",
     "output_type": "stream",
     "text": [
      "('Coefficients: ', array([ 1.14403338,  1.33500762,  1.06110395,  1.99217313,  1.99551832,\n",
      "        2.51582736,  1.67190549,  3.63173218, -0.71847031, -1.24197449,\n",
      "        2.0028136 ,  0.13242339,  3.77530029,  2.4281986 , -0.14244171,\n",
      "       -0.54004825, -0.35967478, -1.96716181,  0.97338233, -0.87574591,\n",
      "        0.31493134, -1.37428984, -0.81506168, -1.88334015, -5.17181967,\n",
      "       -6.50789292, -2.80341416, -6.41773454,  0.49768324, -5.84713315,\n",
      "        0.06775389, -2.28714324, -0.68754703]))\n",
      "Intercept : -0.035\n"
     ]
    }
   ],
   "source": [
    "print(\"Coefficients: \", lrmod2.coefficients.toArray())\n",
    "print(\"Intercept : {:.3f}\".format(lrmod2.intercept))\n",
    "# help(lrmod2.coefficients)"
   ]
  },
  {
   "cell_type": "markdown",
   "metadata": {},
   "source": [
    "## Interpretation\n",
    "\n",
    "The logistic regression model is fit with the following sigmoidal link function (https://spark.apache.org/docs/2.1.3/mllib-linear-methods.html#logistic-regression)\n",
    "\n",
    "$$f(z) = \\frac{1}{1+e^{-z}}$$\n",
    "\n",
    "Here $z$ is the $w^Tx$ or the linear combination of the predictors. $f(z)$ is the probability of defaulting. If $f(z) < 0.5$, then the prediction is 0 (does not default). Else prediction is 1 (will default). We consider the odds ratio of this probability for interpretability:\n",
    "\n",
    "$$OR = \\frac{f(z)}{1-f(z)} = e^z$$\n",
    "\n",
    "In a traditional statistical modeling software, each coefficient also has a t-statistic or p-value that helps decide if it is significant or not. Spark 2.1.3 doesn't output this, so we might at this juncture just assume every coefficient is significantly different from zero. Hence, every feature matters.\n",
    "\n",
    "### Intercept\n",
    "\n",
    "The intercept is -0.035. So we $OR = e^{-0.035} = 0.96$. It is interpreted as \"A person has 0.96:1 odds of (defaulting:not defaulting) when all their covariates are 0\". \n",
    "\n",
    "This needs to be unpacked a little. One must look at what each covariate being 0 means in order for a full interpretation. From the ETL script, we know that the covariates are 0 in the 'base' case, and this 'base' case is given by the `feat_base_full` list saved in `feat_names.npz`."
   ]
  },
  {
   "cell_type": "code",
   "execution_count": 13,
   "metadata": {},
   "outputs": [
    {
     "name": "stdout",
     "output_type": "stream",
     "text": [
      "[u'ACCOUNT_AGE(1 to 4 YRS)' u'ACCOUNT_TYPE(500 to 1000 K USD)'\n",
      " u'CREDIT_HISTORY(CRITICAL ACCOUNT)' u'HAS_CO_APPLICANT(YES)'\n",
      " u'HAS_GUARANTOR(YES)' u'IS_STATE_BORDER(YES)' u'IS_URBAN(NO)'\n",
      " u'OTHER_INSTALMENT_PLAN(YES)' u'OWN_CAR(NO)' u'OWN_REAL_ESTATE(YES)'\n",
      " u'OWN_RESIDENCE(YES)' u'SHIP_INTERNATIONAL(NO)' u'STATE(NJ)'\n",
      " u'TRANSACTION_CATEGORY(OTHER)' u'rfm = 3.55'\n",
      " u'transaction amount = 26980.0' u'emi tenure = 109.68']\n"
     ]
    }
   ],
   "source": [
    "with np.load(\"feat_names.npz\") as f:\n",
    "    feat_base_full = f[\"feat_base_full\"]\n",
    "    feat_names_full = f[\"feat_names_full\"]\n",
    "    mean_quant_feats = f[\"mean\"]\n",
    "    std_quant_feats = f[\"std\"]\n",
    "print(feat_base_full)"
   ]
  },
  {
   "cell_type": "markdown",
   "metadata": {},
   "source": [
    "### Example covariate\n",
    "\n",
    "#### Qualitative variable\n",
    "\n",
    "The first coefficient is 1.1440. So we have $OR = e^{1.144} = 3.13$. From the ETL, we know that the first covariate is `ACCOUNT_AGE(up to 1 YR)`. We also know that the base case is `ACCOUNT_AGE(1 to 4 YRS)` (see above).\n",
    "\n",
    "Hence this coefficient is interpreted as \"All other factors remaining the same, a person with an account age of up to 1 year has a 3.13 times higher odds (of defaulting:not defaulting) than a person with an account age of 1-4 years.\"\n",
    "\n",
    "#### Quantitative variable\n",
    "\n",
    "Another coefficient to consider is the last but one with a value of -2.29. So the $OR = 0.1$. This is the coefficient for scaled transaction amount. The interpretation for this coefficient is \"All other factors remaining the same, an increase of 1 scaled trasaction amount unit (or = 4607.57 USD, see below) results in the odds (of defaulting:not defaulting) being multiplied by 0.1.\". \n",
    "\n",
    "Put simply, $4500 increase in transaction value reduces the odds ratio (of defaulting:not defaulting) by 10. Higher transaction values are less likely to default in the future."
   ]
  },
  {
   "cell_type": "code",
   "execution_count": 14,
   "metadata": {},
   "outputs": [
    {
     "name": "stdout",
     "output_type": "stream",
     "text": [
      "One scaled transaction amount unit is 4607.57 USD\n"
     ]
    }
   ],
   "source": [
    "print(\"One scaled transaction amount unit is {:.2f} USD\".format(std_quant_feats[1]))"
   ]
  },
  {
   "cell_type": "markdown",
   "metadata": {},
   "source": [
    "The following table illustrates all covariates and their odds ratio:"
   ]
  },
  {
   "cell_type": "code",
   "execution_count": 15,
   "metadata": {},
   "outputs": [
    {
     "data": {
      "text/html": [
       "<div>\n",
       "<table border=\"1\" class=\"dataframe\">\n",
       "  <thead>\n",
       "    <tr style=\"text-align: right;\">\n",
       "      <th></th>\n",
       "      <th>Log odds ratio</th>\n",
       "      <th>Odds ratio</th>\n",
       "      <th>Feature</th>\n",
       "    </tr>\n",
       "  </thead>\n",
       "  <tbody>\n",
       "    <tr>\n",
       "      <th>0</th>\n",
       "      <td>1.14</td>\n",
       "      <td>3.14</td>\n",
       "      <td>ACCOUNT_AGE(up to 1 YR)</td>\n",
       "    </tr>\n",
       "    <tr>\n",
       "      <th>1</th>\n",
       "      <td>1.34</td>\n",
       "      <td>3.8</td>\n",
       "      <td>ACCOUNT_AGE(above 7 YRS)</td>\n",
       "    </tr>\n",
       "    <tr>\n",
       "      <th>2</th>\n",
       "      <td>1.06</td>\n",
       "      <td>2.89</td>\n",
       "      <td>ACCOUNT_AGE(4 to 7 YRS)</td>\n",
       "    </tr>\n",
       "    <tr>\n",
       "      <th>3</th>\n",
       "      <td>1.99</td>\n",
       "      <td>7.33</td>\n",
       "      <td>ACCOUNT_AGE(TBD)</td>\n",
       "    </tr>\n",
       "    <tr>\n",
       "      <th>4</th>\n",
       "      <td>2</td>\n",
       "      <td>7.36</td>\n",
       "      <td>ACCOUNT_TYPE(above 1000 K USD)</td>\n",
       "    </tr>\n",
       "    <tr>\n",
       "      <th>5</th>\n",
       "      <td>2.52</td>\n",
       "      <td>12.38</td>\n",
       "      <td>ACCOUNT_TYPE(UNKNOWN/NONE)</td>\n",
       "    </tr>\n",
       "    <tr>\n",
       "      <th>6</th>\n",
       "      <td>1.67</td>\n",
       "      <td>5.32</td>\n",
       "      <td>ACCOUNT_TYPE(100 to 500 K USD)</td>\n",
       "    </tr>\n",
       "    <tr>\n",
       "      <th>7</th>\n",
       "      <td>3.63</td>\n",
       "      <td>37.78</td>\n",
       "      <td>ACCOUNT_TYPE(up to 100 K USD)</td>\n",
       "    </tr>\n",
       "    <tr>\n",
       "      <th>8</th>\n",
       "      <td>-0.72</td>\n",
       "      <td>0.49</td>\n",
       "      <td>CREDIT_HISTORY(EXISTING CREDITS PAID BACK)</td>\n",
       "    </tr>\n",
       "    <tr>\n",
       "      <th>9</th>\n",
       "      <td>-1.24</td>\n",
       "      <td>0.29</td>\n",
       "      <td>CREDIT_HISTORY(ALL CREDITS PAID BACK)</td>\n",
       "    </tr>\n",
       "    <tr>\n",
       "      <th>10</th>\n",
       "      <td>2</td>\n",
       "      <td>7.41</td>\n",
       "      <td>CREDIT_HISTORY(DELAY IN PAST)</td>\n",
       "    </tr>\n",
       "    <tr>\n",
       "      <th>11</th>\n",
       "      <td>0.13</td>\n",
       "      <td>1.14</td>\n",
       "      <td>CREDIT_HISTORY(NONE TAKEN)</td>\n",
       "    </tr>\n",
       "    <tr>\n",
       "      <th>12</th>\n",
       "      <td>3.78</td>\n",
       "      <td>43.61</td>\n",
       "      <td>HAS_CO_APPLICANT(NO)</td>\n",
       "    </tr>\n",
       "    <tr>\n",
       "      <th>13</th>\n",
       "      <td>2.43</td>\n",
       "      <td>11.34</td>\n",
       "      <td>HAS_GUARANTOR(NO)</td>\n",
       "    </tr>\n",
       "    <tr>\n",
       "      <th>14</th>\n",
       "      <td>-0.14</td>\n",
       "      <td>0.87</td>\n",
       "      <td>IS_STATE_BORDER(NO)</td>\n",
       "    </tr>\n",
       "    <tr>\n",
       "      <th>15</th>\n",
       "      <td>-0.54</td>\n",
       "      <td>0.58</td>\n",
       "      <td>IS_URBAN(YES)</td>\n",
       "    </tr>\n",
       "    <tr>\n",
       "      <th>16</th>\n",
       "      <td>-0.36</td>\n",
       "      <td>0.7</td>\n",
       "      <td>OTHER_INSTALMENT_PLAN(NO)</td>\n",
       "    </tr>\n",
       "    <tr>\n",
       "      <th>17</th>\n",
       "      <td>-1.97</td>\n",
       "      <td>0.14</td>\n",
       "      <td>OWN_CAR(YES)</td>\n",
       "    </tr>\n",
       "    <tr>\n",
       "      <th>18</th>\n",
       "      <td>0.97</td>\n",
       "      <td>2.65</td>\n",
       "      <td>OWN_REAL_ESTATE(NO)</td>\n",
       "    </tr>\n",
       "    <tr>\n",
       "      <th>19</th>\n",
       "      <td>-0.88</td>\n",
       "      <td>0.42</td>\n",
       "      <td>OWN_RESIDENCE(NO)</td>\n",
       "    </tr>\n",
       "    <tr>\n",
       "      <th>20</th>\n",
       "      <td>0.31</td>\n",
       "      <td>1.37</td>\n",
       "      <td>SHIP_INTERNATIONAL(YES)</td>\n",
       "    </tr>\n",
       "    <tr>\n",
       "      <th>21</th>\n",
       "      <td>-1.37</td>\n",
       "      <td>0.25</td>\n",
       "      <td>STATE(CT)</td>\n",
       "    </tr>\n",
       "    <tr>\n",
       "      <th>22</th>\n",
       "      <td>-0.82</td>\n",
       "      <td>0.44</td>\n",
       "      <td>STATE(PA)</td>\n",
       "    </tr>\n",
       "    <tr>\n",
       "      <th>23</th>\n",
       "      <td>-1.88</td>\n",
       "      <td>0.15</td>\n",
       "      <td>STATE(NY)</td>\n",
       "    </tr>\n",
       "    <tr>\n",
       "      <th>24</th>\n",
       "      <td>-5.17</td>\n",
       "      <td>0.01</td>\n",
       "      <td>TRANSACTION_CATEGORY(FURNITURE)</td>\n",
       "    </tr>\n",
       "    <tr>\n",
       "      <th>25</th>\n",
       "      <td>-6.51</td>\n",
       "      <td>0</td>\n",
       "      <td>TRANSACTION_CATEGORY(ELECTRONICS)</td>\n",
       "    </tr>\n",
       "    <tr>\n",
       "      <th>26</th>\n",
       "      <td>-2.8</td>\n",
       "      <td>0.06</td>\n",
       "      <td>TRANSACTION_CATEGORY(EDUCATION)</td>\n",
       "    </tr>\n",
       "    <tr>\n",
       "      <th>27</th>\n",
       "      <td>-6.42</td>\n",
       "      <td>0</td>\n",
       "      <td>TRANSACTION_CATEGORY(USED CAR)</td>\n",
       "    </tr>\n",
       "    <tr>\n",
       "      <th>28</th>\n",
       "      <td>0.5</td>\n",
       "      <td>1.64</td>\n",
       "      <td>TRANSACTION_CATEGORY(RETRAINING)</td>\n",
       "    </tr>\n",
       "    <tr>\n",
       "      <th>29</th>\n",
       "      <td>-5.85</td>\n",
       "      <td>0</td>\n",
       "      <td>TRANSACTION_CATEGORY(NEW CAR)</td>\n",
       "    </tr>\n",
       "    <tr>\n",
       "      <th>30</th>\n",
       "      <td>0.07</td>\n",
       "      <td>1.07</td>\n",
       "      <td>scaled rfm</td>\n",
       "    </tr>\n",
       "    <tr>\n",
       "      <th>31</th>\n",
       "      <td>-2.29</td>\n",
       "      <td>0.1</td>\n",
       "      <td>scaled transaction amount</td>\n",
       "    </tr>\n",
       "    <tr>\n",
       "      <th>32</th>\n",
       "      <td>-0.69</td>\n",
       "      <td>0.5</td>\n",
       "      <td>scaled emi tenure</td>\n",
       "    </tr>\n",
       "  </tbody>\n",
       "</table>\n",
       "</div>"
      ],
      "text/plain": [
       "   Log odds ratio Odds ratio                                     Feature\n",
       "0            1.14       3.14                     ACCOUNT_AGE(up to 1 YR)\n",
       "1            1.34        3.8                    ACCOUNT_AGE(above 7 YRS)\n",
       "2            1.06       2.89                     ACCOUNT_AGE(4 to 7 YRS)\n",
       "3            1.99       7.33                            ACCOUNT_AGE(TBD)\n",
       "4               2       7.36              ACCOUNT_TYPE(above 1000 K USD)\n",
       "5            2.52      12.38                  ACCOUNT_TYPE(UNKNOWN/NONE)\n",
       "6            1.67       5.32              ACCOUNT_TYPE(100 to 500 K USD)\n",
       "7            3.63      37.78               ACCOUNT_TYPE(up to 100 K USD)\n",
       "8           -0.72       0.49  CREDIT_HISTORY(EXISTING CREDITS PAID BACK)\n",
       "9           -1.24       0.29       CREDIT_HISTORY(ALL CREDITS PAID BACK)\n",
       "10              2       7.41               CREDIT_HISTORY(DELAY IN PAST)\n",
       "11           0.13       1.14                  CREDIT_HISTORY(NONE TAKEN)\n",
       "12           3.78      43.61                        HAS_CO_APPLICANT(NO)\n",
       "13           2.43      11.34                           HAS_GUARANTOR(NO)\n",
       "14          -0.14       0.87                         IS_STATE_BORDER(NO)\n",
       "15          -0.54       0.58                               IS_URBAN(YES)\n",
       "16          -0.36        0.7                   OTHER_INSTALMENT_PLAN(NO)\n",
       "17          -1.97       0.14                                OWN_CAR(YES)\n",
       "18           0.97       2.65                         OWN_REAL_ESTATE(NO)\n",
       "19          -0.88       0.42                           OWN_RESIDENCE(NO)\n",
       "20           0.31       1.37                     SHIP_INTERNATIONAL(YES)\n",
       "21          -1.37       0.25                                   STATE(CT)\n",
       "22          -0.82       0.44                                   STATE(PA)\n",
       "23          -1.88       0.15                                   STATE(NY)\n",
       "24          -5.17       0.01             TRANSACTION_CATEGORY(FURNITURE)\n",
       "25          -6.51          0           TRANSACTION_CATEGORY(ELECTRONICS)\n",
       "26           -2.8       0.06             TRANSACTION_CATEGORY(EDUCATION)\n",
       "27          -6.42          0              TRANSACTION_CATEGORY(USED CAR)\n",
       "28            0.5       1.64            TRANSACTION_CATEGORY(RETRAINING)\n",
       "29          -5.85          0               TRANSACTION_CATEGORY(NEW CAR)\n",
       "30           0.07       1.07                                  scaled rfm\n",
       "31          -2.29        0.1                   scaled transaction amount\n",
       "32          -0.69        0.5                           scaled emi tenure"
      ]
     },
     "execution_count": 15,
     "metadata": {},
     "output_type": "execute_result"
    }
   ],
   "source": [
    "coeffs = lrmod2.coefficients.toArray()\n",
    "coeffs.reshape(1, 33)\n",
    "interpretation = pd.DataFrame(data = [np.round(coeffs,2), np.round(np.exp(coeffs),2), feat_names_full]).transpose()\n",
    "interpretation.columns = [\"Log odds ratio\", \"Odds ratio\", \"Feature\"]\n",
    "interpretation"
   ]
  },
  {
   "cell_type": "markdown",
   "execution_count": null,
   "metadata": {},
   "outputs": [],
   "source": [
    "#### Interesting\n",
    "\n",
    "- Accounts with <100k have 37 times higher odds of defaulting:not defaulting compared to accounts with 500-1000k.\n",
    "- Accounts without co-applicants have 43 times higher odds of defaulting:notdefaulting compared to accounts with a co-applicant.\n",
    "- Applicants getting new/used cars or electronics are much less likely to default than those in the \"OTHER\" category.\n"
   ]
  },
  {
   "cell_type": "markdown",
   "metadata": {},
   "source": [
    "# Benchmark with a random guess\n",
    "\n",
    "Randomly guessing whether the person will default or not will result in correct guesses 50% of the time. This is independent of the proportion of `IS_DEFAULT` since we have by Bayes' theorem:\n",
    "\n",
    "$$P(A|B) = \\frac{P(A\\cap B)}{P(B)}$$\n",
    "Now with $A = correct guess$ and $B = IS DEFAULT is No$, we have \n",
    "\n",
    "$$P(A\\cap B) = P(correct guess \\cap IS DEFAULT is No) = P(correct guess)P(IS DEFAULT is No)$$\n",
    "\n",
    "since $correct guess$ and $ISDEFAULT is No$ are independent events. We also have:\n",
    "\n",
    "$$P(B) = P(ISDEFAULT is No)$$\n",
    "\n",
    "So we have $P(correct guess | IS DEFAULT is No) = P(correct guess) = 0.5$\n",
    "\n",
    "This is numerically verified below:"
   ]
  },
  {
   "cell_type": "code",
   "execution_count": 16,
   "metadata": {},
   "outputs": [
    {
     "name": "stdout",
     "output_type": "stream",
     "text": [
      "Probability of correct guess = 0.49\n"
     ]
    }
   ],
   "source": [
    "n = 10000\n",
    "a = np.hstack([np.ones(int(0.7*n)), np.zeros(int(0.3*n))])\n",
    "b = np.round(np.random.rand(n))\n",
    "print(\"Probability of correct guess = {:.2f}\".format(np.sum(a==b)*1.0/n))"
   ]
  }
 ],
 "metadata": {
  "kernelspec": {
   "display_name": "arml",
   "language": "python",
   "name": "arml"
  },
  "language_info": {
   "codemirror_mode": {
    "name": "ipython",
    "version": 2
   },
   "file_extension": ".py",
   "mimetype": "text/x-python",
   "name": "python",
   "nbconvert_exporter": "python",
   "pygments_lexer": "ipython2",
   "version": "2.7.14"
  }
 },
 "nbformat": 4,
 "nbformat_minor": 1
}